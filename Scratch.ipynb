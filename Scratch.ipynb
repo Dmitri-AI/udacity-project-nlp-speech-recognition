{
 "cells": [
  {
   "cell_type": "code",
   "execution_count": 4,
   "metadata": {},
   "outputs": [
    {
     "name": "stdout",
     "output_type": "stream",
     "text": [
      "(6)CdF\n"
     ]
    }
   ],
   "source": [
    "l = []\n",
    "l += [\"(\", 6, \")\"]\n",
    "l += \"C\"\n",
    "l += \"d\" + \"F\"\n",
    "print(\"\".join([i if type(i)==str else repr(i) for i in l]))"
   ]
  },
  {
   "cell_type": "code",
   "execution_count": 23,
   "metadata": {},
   "outputs": [
    {
     "name": "stdout",
     "output_type": "stream",
     "text": [
      "THUMB THUMBs UP!\n",
      "INDEX INDEXs UP!\n",
      "MIDDLE MIDDLEs UP!\n",
      "RING RINGs UP!\n",
      "PINKY PINKYs UP!\n"
     ]
    }
   ],
   "source": [
    "from enum import Enum\n",
    "class Fingers(Enum):\n",
    "    def la(self):\n",
    "        return self.name + \"!\"\n",
    "    THUMB = 1\n",
    "    def la(self):\n",
    "        return self.name + \"s UP!\"\n",
    "    INDEX = 2,\n",
    "    MIDDLE = 3,\n",
    "    RING = 4,\n",
    "    PINKY = 5\n",
    "\n",
    "for f in Fingers:\n",
    "    print(f.name, f.la())\n",
    "\n"
   ]
  },
  {
   "cell_type": "code",
   "execution_count": 44,
   "metadata": {},
   "outputs": [
    {
     "name": "stdout",
     "output_type": "stream",
     "text": [
      "<class 'keras.layers.cudnn_recurrent.CuDNNLSTM'>\n",
      "CuDNNLSTM\n",
      "CuDNNLSTM cu_dnnlstm_1\n",
      "GRU gru_4\n"
     ]
    }
   ],
   "source": [
    "from keras.layers import LSTM, GRU, CuDNNLSTM\n",
    "class RNNLayer(Enum):\n",
    "    LSTM = CuDNNLSTM\n",
    "    GLU = GRU\n",
    "    \n",
    "print(RNNLayer.LSTM.value)  \n",
    "\n",
    "print(RNNLayer.LSTM.value.__name__)\n",
    "\n",
    "for l in RNNLayer:\n",
    "    print(l.value.__name__, l.value(5).name)"
   ]
  },
  {
   "cell_type": "code",
   "execution_count": 5,
   "metadata": {},
   "outputs": [
    {
     "name": "stdout",
     "output_type": "stream",
     "text": [
      "two thumbs\n"
     ]
    },
    {
     "data": {
      "text/plain": [
       "<Fingers.THUMB: 1>"
      ]
     },
     "execution_count": 5,
     "metadata": {},
     "output_type": "execute_result"
    }
   ],
   "source": [
    "import aenum as ae\n",
    "\n",
    "class Fingers(ae.Enum):\n",
    "\n",
    "    _init_ = 'value string'\n",
    "\n",
    "    THUMB = 1, 'two thumbs'\n",
    "    INDEX = 2, 'offset location'\n",
    "    MIDDLE = 3, 'average is not median'\n",
    "    RING = 4, 'round or finger'\n",
    "    PINKY = 5, 'wee wee wee'\n",
    "\n",
    "    def __str__(self):\n",
    "        return self.string\n",
    "    \n",
    "    \n",
    "print(Fingers.THUMB)\n",
    "Fingers.THUMB\n",
    "\n"
   ]
  }
 ],
 "metadata": {
  "kernelspec": {
   "display_name": "Python 3",
   "language": "python",
   "name": "python3"
  },
  "language_info": {
   "codemirror_mode": {
    "name": "ipython",
    "version": 3
   },
   "file_extension": ".py",
   "mimetype": "text/x-python",
   "name": "python",
   "nbconvert_exporter": "python",
   "pygments_lexer": "ipython3",
   "version": "3.7.1"
  }
 },
 "nbformat": 4,
 "nbformat_minor": 2
}
